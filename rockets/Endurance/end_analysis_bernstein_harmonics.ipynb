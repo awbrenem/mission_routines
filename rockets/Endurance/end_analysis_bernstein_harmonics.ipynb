{
 "cells": [
  {
   "cell_type": "code",
   "execution_count": 1,
   "metadata": {},
   "outputs": [
    {
     "name": "stdout",
     "output_type": "stream",
     "text": [
      "dict_keys(['tvlf', 'dvlf12_mvm', 'dvlf34_mvm', 'dvlf24_mvm', 'dvlf32_mvm', 'author', 'calnote_vlf1234', 'calnote_vlf2432', 'dataunits', 'flight', 'format', 'filein', 'link', 'samplerate', 't0', 'timetagmethod', 'timeunits', 'dvlf12_mvm_gpcal', 'dvlf34_mvm_gpcal', 'dvlf32_mvm_gpcal', 'dvlf24_mvm_gpcal'])\n"
     ]
    }
   ],
   "source": [
    "#Endurance - identify harmonics of the Bernstein waves\n",
    "\n",
    "import sys \n",
    "sys.path.append('/Users/abrenema/Desktop/code/Aaron/github/mission_routines/rockets/Endurance/')\n",
    "import end_load_data\n",
    "import end_functions as end\n",
    "sys.path.append('/Users/abrenema/Desktop/code/Aaron/github/plasma-physics-general/')\n",
    "import plasma_params_get_density_from_flhr_freq as dflh\n",
    "import plasma_params_get_flhr_freq as dflh2\n",
    "sys.path.append('/Users/abrenema/Desktop/code/Aaron/github/signal_analysis/')\n",
    "import plot_spectrogram as ps\n",
    "from scipy import signal\n",
    "from scipy.interpolate import interp1d\n",
    "import numpy as np \n",
    "import matplotlib.pyplot as plt\n",
    "import plasmapy\n",
    "from astropy import units as u  \n",
    "\n",
    "#%load_ext nb_black\n",
    "plt.rcParams['figure.figsize'] = [10, 4]\n",
    "\n",
    "\"\"\"Enable auto module reloading\"\"\"\n",
    "#%load_ext autoreload\n",
    "#%autoreload 2\n",
    "\n",
    "\n",
    "\"\"\"Load E-field VLF data\"\"\"\n",
    "evlf = end_load_data.efield_vlf()\n",
    "print(evlf.keys())\n",
    "\n",
    "\"\"\"Load mag data\"\"\"\n",
    "mag = end_load_data.mag_dc()\n",
    "\n",
    "\n",
    "\n",
    "%matplotlib inline\n",
    "%matplotlib qt   \n",
    "#Get rid of inline plots (don't work well for subplots)\n",
    "\n",
    "\n"
   ]
  },
  {
   "cell_type": "code",
   "execution_count": 2,
   "metadata": {},
   "outputs": [],
   "source": [
    "#Get cyclotron freqs\n",
    "\n",
    "Bo = signal.decimate(mag.Bmag, 50)\n",
    "tvals = signal.decimate(mag.tsec,50)\n",
    "fce = [28*i for i in Bo]\n",
    "fcH = [i/1836.15 for i in fce]\n",
    "fcH2 = [i*2 for i in fcH]\n",
    "fcH3 = [i*3 for i in fcH]\n",
    "fcH4 = [i*4 for i in fcH]\n",
    "fcH5 = [i*5 for i in fcH]\n",
    "fcH6 = [i*6 for i in fcH]\n",
    "fcH7 = [i*7 for i in fcH]\n",
    "fcH8 = [i*8 for i in fcH]\n",
    "fcH9 = [i*9 for i in fcH]\n",
    "fcH10 = [i*10 for i in fcH]\n",
    "fcH11 = [i*11 for i in fcH]\n",
    "fcH12 = [i*12 for i in fcH]\n",
    "fcH13 = [i*13 for i in fcH]\n",
    "fcH14 = [i*14 for i in fcH]\n",
    "fcH15 = [i*15 for i in fcH]\n",
    "fcH16 = [i*16 for i in fcH]\n",
    "fcH17 = [i*17 for i in fcH]\n",
    "fcH18 = [i*18 for i in fcH]\n",
    "fcH19 = [i*19 for i in fcH]\n",
    "fcH20 = [i*20 for i in fcH]\n",
    "fcO = [i/(1836.15*15) for i in fce]\n",
    "fcN = [i/(1836.15*14) for i in fce]\n",
    "fcHe = [i/(1836.15*4) for i in fce]\n"
   ]
  },
  {
   "cell_type": "code",
   "execution_count": 3,
   "metadata": {},
   "outputs": [
    {
     "name": "stdout",
     "output_type": "stream",
     "text": [
      "here\n"
     ]
    }
   ],
   "source": [
    "#Load ion composition data from end_determine_composition.py\n",
    "import pickle \n",
    "\n",
    "path = '/Users/abrenema/Desktop/Research/Rocket_missions/Endurance/data/plasma_composition/plasma_composition.pkl'\n",
    "ion_comp = pickle.load(open(path, 'rb'))\n",
    "flh = ion_comp['flh']\n",
    "\n",
    "\n",
    "plt.plot(ion_comp['times'],ion_comp['ne_langmuirprobe'],'.',ion_comp['times'],ion_comp['ne_flhID_HpOp'],'x')\n",
    "plt.show()\n",
    "print(\"here\")\n",
    "\n"
   ]
  },
  {
   "cell_type": "code",
   "execution_count": 4,
   "metadata": {},
   "outputs": [
    {
     "name": "stdout",
     "output_type": "stream",
     "text": [
      "here\n"
     ]
    }
   ],
   "source": [
    "#Plot VLF spectra with overplotted ion cyclotron harmonic lines \n",
    "\n",
    "fs = evlf.samplerate\n",
    "freq12, tspec12, power12 = signal.spectrogram(evlf.dvlf12_mvm_gpcal, fs, nperseg=16384, noverlap=16384/2., return_onesided=True)\n",
    "\n",
    "plt.plot(evlf.tvlf,evlf.dvlf12_mvm_gpcal,evlf.tvlf,evlf.dvlf12_mvm)\n",
    "plt.xlim(202,204)\n",
    "plt.ylim(-1,1)\n",
    "\n",
    "#Left cyclotron waves - zoomed out\n",
    "ps.plot_spectrogram(tspec12,freq12,power12,vr=[-80,-60], xr=[100,250],yr=[500,12000],zscale='log')\n",
    "#Left cyclotron waves - zoomed in\n",
    "ps.plot_spectrogram(tspec12,freq12,power12,vr=[-80,-50], xr=[100,250],yr=[4500,8000],zscale='log')\n",
    "plt.plot(ion_comp['times'],ion_comp['flh'],tvals,fcH,tvals,fcH6,tvals,fcH7,tvals,fcH8,tvals,fcH9,tvals,fcH10)\n",
    "\n",
    "\n",
    "#Right cyclotron waves - zoomed out\n",
    "ps.plot_spectrogram(tspec12,freq12,power12,vr=[-80,-60], xr=[600,900],yr=[50,12000],zscale='log')\n",
    "#Right cyclotron waves - zoomed in\n",
    "ps.plot_spectrogram(tspec12,freq12,power12,vr=[-75,-50], xr=[700,900],yr=[4000,9000],zscale='log')\n",
    "plt.plot(ion_comp['times'],ion_comp['flh'],tvals,fcH,tvals,fcH6,tvals,fcH7,tvals,fcH8,tvals,fcH9,tvals,fcH10)\n",
    "#Right cyclotron waves - zoomed in to end (log yscale)\n",
    "ps.plot_spectrogram(tspec12,freq12,power12,vr=[-75,-50], xr=[850,900],yr=[30,12000],zscale='log',yscale='log')\n",
    "plt.plot(ion_comp['times'],ion_comp['flh'],tvals,fcH,tvals,fcH6,tvals,fcH7,tvals,fcH8,tvals,fcH9,tvals,fcH10)\n",
    "#Right cyclotron waves - zoomed in to end (linear yscale)\n",
    "fig,ax = plt.subplots(2)\n",
    "ps.plot_spectrogram(tspec12,freq12,power12,vr=[-75,-60], xr=[860,895],yr=[30,8000],zscale='log',ax=ax[0])\n",
    "ps.plot_spectrogram(tspec12,freq12,power12,vr=[-75,-60], xr=[860,895],yr=[30,1000],zscale='log',ax=ax[1])\n",
    "ax[0].plot(ion_comp['times'],ion_comp['flh'],tvals,fcH,tvals,fcH6,tvals,fcH7,tvals,fcH8,tvals,fcH9,tvals,fcH10)\n",
    "ax[1].plot(ion_comp['times'],ion_comp['flh'],tvals,fcH,tvals,fcH6,tvals,fcH7,tvals,fcH8,tvals,fcH9,tvals,fcH10)\n",
    "\n",
    "#central cyclotron waves - zoomed out\n",
    "#fig,ax = plt.subplots(3)\n",
    "#ax[1].set_ylim(100,12000)\n",
    "#ax[1].set_yscale('log')\n",
    "#ps.plot_spectrogram(tspec12,freq12,power12,vr=[-80,-65],xr=[100,900],yr=[2000,9000],zscale='log',ax=ax[0])\n",
    "#ps.plot_spectrogram(tspec12,freq12,power12,vr=[-75,-65],xr=[100,900],zscale='log',ax=ax[1])\n",
    "#ps.plot_spectrogram(tspec12,freq12,power12,vr=[-75,-65],xr=[100,900],yr=[30,1000],zscale='log',ax=ax[2])\n",
    "fig,ax = plt.subplots(2)\n",
    "ps.plot_spectrogram(tspec12,freq12,power12,vr=[-80,-65],xr=[100,900],yr=[2000,9000],zscale='log',ax=ax[0])\n",
    "ps.plot_spectrogram(tspec12,freq12,power12,vr=[-75,-65],xr=[100,900],yr=[500,800],zscale='log',ax=ax[1])\n",
    "ax[0].plot(ion_comp['times'],ion_comp['flh'],tvals,fcH6,tvals,fcH7,tvals,fcH8,tvals,fcH9,tvals,fcH10)\n",
    "ax[1].plot(ion_comp['times'],ion_comp['flh'],tvals,fcH,tvals,fcH6)\n",
    "\n",
    "\n",
    "\n",
    "#Artificial pulses - perhaps an antenna response to short wavelength that occurs each rotation?\n",
    "#Right pulsations\n",
    "ps.plot_spectrogram(tspec12,freq12,power12,vr=[-75,-50], xr=[775,850],yr=[6000,8000],zscale='log')\n",
    "plt.plot(ion_comp['times'],ion_comp['flh'],tvals,fcH,tvals,fcH6,tvals,fcH7,tvals,fcH8,tvals,fcH9,tvals,fcH10)\n",
    "#Left pulsations\n",
    "ps.plot_spectrogram(tspec12,freq12,power12,vr=[-80,-50], xr=[130,200],yr=[5500,8000],zscale='log')\n",
    "plt.plot(ion_comp['times'],ion_comp['flh'],tvals,fcH,tvals,fcH6,tvals,fcH7,tvals,fcH8,tvals,fcH9,tvals,fcH10)\n",
    "#Central pulsations?\n",
    "ps.plot_spectrogram(tspec12,freq12,power12,vr=[-75,-65],xr=[450,550],yr=[4000,5000],zscale='log')\n",
    "\n",
    "\n",
    "\n",
    "\n",
    "print('here')\n",
    "#plt.plot(tvals,fcH)\n",
    "#ps.plot_spectrogram(tspec12,freq12,power12,vr=[-75,-65],xr=[100,900],yr=[100,12000],zscale='log',yscale='log')\n",
    "\n",
    "#Plot low freqs to find non-contaminated times \n",
    "#ps.plot_spectrogram(tspec12,freq12,power12,vr=[-80,-40], xr=[100,900],yr=[1,600],zscale='log',yscale='log')\n",
    "#ps.plot_spectrogram(tspec12,freq12,power12,vr=vr[-80,-40], xr=[100,900],yr=[5000,9000],zscale='log',yscale='linear')\n",
    "#ps.plot_spectrogram(tspec12,freq12,power12,vr=vr[-80,-40], xr=[100,900],yr=[5000,9000],zscale='log',yscale='linear')\n",
    "\n"
   ]
  },
  {
   "cell_type": "code",
   "execution_count": null,
   "metadata": {},
   "outputs": [],
   "source": [
    "#Overplot lines on spectra\n",
    "\n",
    "\n"
   ]
  },
  {
   "cell_type": "code",
   "execution_count": null,
   "metadata": {},
   "outputs": [],
   "source": [
    "\n",
    "\n",
    "\n",
    "\n"
   ]
  }
 ],
 "metadata": {
  "kernelspec": {
   "display_name": "Python 3.8.8 ('base')",
   "language": "python",
   "name": "python3"
  },
  "language_info": {
   "codemirror_mode": {
    "name": "ipython",
    "version": 3
   },
   "file_extension": ".py",
   "mimetype": "text/x-python",
   "name": "python",
   "nbconvert_exporter": "python",
   "pygments_lexer": "ipython3",
   "version": "3.8.8"
  },
  "orig_nbformat": 4,
  "vscode": {
   "interpreter": {
    "hash": "3a53d51e9176ea8826b240f37bb5114997079bba8a6a1e98f7cebb95300f7760"
   }
  }
 },
 "nbformat": 4,
 "nbformat_minor": 2
}
