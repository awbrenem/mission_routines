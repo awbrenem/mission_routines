{
 "cells": [
  {
   "cell_type": "code",
   "execution_count": 1,
   "metadata": {},
   "outputs": [],
   "source": [
    "import sys \n",
    "sys.path.append('/Users/abrenema/Desktop/code/Aaron/github/mission_routines/rockets/Endurance/')\n",
    "sys.path.append('/Users/abrenema/Desktop/code/Aaron/github/plasma-physics-general/')\n",
    "import end_load_data\n",
    "import plasma_params_get_density_from_flhr_freq as dflh\n",
    "sys.path.append('/Users/abrenema/Desktop/code/Aaron/github/signal_analysis/')\n",
    "import plot_spectrogram as ps\n",
    "from scipy import signal\n",
    "\n",
    "import numpy as np \n",
    "import matplotlib.pyplot as plt\n",
    "\n",
    "import plasmapy\n",
    "from astropy import units as u  \n",
    "\n",
    "#%load_ext nb_black\n",
    "plt.rcParams['figure.figsize'] = [10, 4]\n",
    "\n",
    "\"\"\"Enable auto module reloading\"\"\"\n",
    "%load_ext autoreload\n",
    "%autoreload 2\n",
    "\n",
    "mag = end_load_data.mag_dc()\n",
    "\n"
   ]
  },
  {
   "cell_type": "code",
   "execution_count": 11,
   "metadata": {},
   "outputs": [
    {
     "name": "stdout",
     "output_type": "stream",
     "text": [
      "179561\n",
      "179561\n",
      "179561\n"
     ]
    },
    {
     "data": {
      "text/plain": [
       "[<matplotlib.lines.Line2D at 0x7fe663b75c40>]"
      ]
     },
     "execution_count": 11,
     "metadata": {},
     "output_type": "execute_result"
    }
   ],
   "source": [
    "\n",
    "#Decimate the magnetic field data and determine fcH for entire timespan\n",
    "\n",
    "Bo = signal.decimate(mag.Bmag, 10)\n",
    "#Bo = signal.decimate(Bo, 10)\n",
    "#Bo = signal.decimate(Bo, 10)\n",
    "tmag = signal.decimate(mag.tsec,10)\n",
    "#tmag = signal.decimate(tmag,10)\n",
    "#tmag = signal.decimate(tmag,10)\n",
    "print(len(Bo))\n",
    "print(len(tmag))\n",
    "\n",
    "Bof = mag.Bmag \n",
    "tmagf = mag.tsec \n",
    "fcHtf = [28*i/1836. for i in Bof]\n",
    "\n",
    "\n",
    "#Determine cyclotron freq at all times \n",
    "#Bo = [i * u.nT for i in Bo]\n",
    "fcet = [28*i for i in Bo]\n",
    "fcHt = [28*i/1836. for i in Bo]\n",
    "fcOt = [28*i/1836./15. for i in Bo]\n",
    "\n",
    "print(len(fcOt))\n",
    "plt.plot(tmag, fcOt)\n",
    "\n"
   ]
  },
  {
   "cell_type": "code",
   "execution_count": 19,
   "metadata": {},
   "outputs": [
    {
     "name": "stderr",
     "output_type": "stream",
     "text": [
      "2022-10-13 20:43:43.457 python[36201:457951] AdjustToIronwoodHotKeyChange - CG (hotmod:1) HotKey : hotKey enabled = 1, keyChar=0xfffbffff, virtKey=0x40000, flags=0x0 \n"
     ]
    }
   ],
   "source": [
    "\"\"\"Load and plot E-field VLF data\"\"\"\n",
    "\n",
    "#For popout plots\n",
    "%matplotlib tk\n",
    "\n",
    "\n",
    "evlf = end_load_data.efield_vlf()\n",
    "\n",
    "\n",
    "vr = [-80,-60]\n",
    "xr = [100,500]\n",
    "yr = [0,600]\n",
    "\n",
    "\n",
    "fs = evlf.samplerate\n",
    "freq12, tspec12, power12 = signal.spectrogram(evlf.dvlf12_mvm, fs, nperseg=16384, return_onesided=True)\n",
    "#pn = ps.plot_spectrogram(tspec12,freq12,power12,vr=vr, xr=xr,yr=yr,pl=1)\n",
    "\n",
    "pn = 10.*np.log10(power12)\n",
    "\n",
    "\n",
    "\n",
    "fcHt6 = [(6+0.5)*i for i in fcHt]\n",
    "fcHt7 = [(7+0.5)*i for i in fcHt]\n",
    "fcHt8 = [(8+0.5)*i for i in fcHt]\n",
    "fcHt9 = [(9+0.5)*i for i in fcHt]\n",
    "fcHt10 = [(10+0.5)*i for i in fcHt]\n",
    "fcHt11 = [(11+0.5)*i for i in fcHt]\n",
    "fcHt12 = [(12+0.5)*i for i in fcHt]\n",
    "\n",
    "fcOt6 = [(6+0.5)*i for i in fcOt]\n",
    "fcOt7 = [(7+0.5)*i for i in fcOt]\n",
    "fcOt8 = [(8+0.5)*i for i in fcOt]\n",
    "fcOt9 = [(9+0.5)*i for i in fcOt]\n",
    "fcOt10 = [(10+0.5)*i for i in fcOt]\n",
    "fcOt11 = [(11+0.5)*i for i in fcOt]\n",
    "fcOt12 = [(12+0.5)*i for i in fcOt]\n",
    "\n",
    "\n",
    "fig, axs = plt.subplots()\n",
    "\n",
    "\n",
    "\"\"\"\n",
    "axs.plot(tmag, fcHt)\n",
    "axs.plot(tmag, fcHt6)\n",
    "axs.plot(tmag, fcHt7)\n",
    "axs.plot(tmag, fcHt8)\n",
    "axs.plot(tmag, fcHt9)\n",
    "axs.plot(tmag, fcHt10)\n",
    "axs.plot(tmag, fcHt11)\n",
    "axs.plot(tmag, fcHt12)\n",
    "\"\"\"\n",
    "axs.plot(tmag, fcOt)\n",
    "axs.plot(tmag, fcOt6)\n",
    "axs.plot(tmag, fcOt7)\n",
    "axs.plot(tmag, fcOt8)\n",
    "axs.plot(tmag, fcOt9)\n",
    "axs.plot(tmag, fcOt10)\n",
    "axs.plot(tmag, fcOt11)\n",
    "axs.plot(tmag, fcOt12)\n",
    "\n",
    "axs.set_ylim(yr[0],yr[1])\n",
    "axs.set_xlim(xr[0],xr[1])\n",
    "\n",
    "\n",
    "\n",
    "im = axs.imshow(pn,vmin=vr[0],vmax=vr[1],cmap='turbo',aspect='auto', extent=[np.min(tspec12),np.max(tspec12),np.min(freq12),np.max(freq12)], origin='lower')\n",
    "#Force x,y axes to be defined exactly based on the range of data.\n",
    "axs.set_ylim(yr[0],yr[1])\n",
    "axs.set_xlim(xr[0],xr[1])\n",
    "\n",
    "plt.yscale('linear')\n",
    "plt.xlim([xr[0],xr[1]])\n",
    "plt.ylim([yr[0],yr[1]])\n",
    "\n",
    "plt.show()\n",
    "\n",
    "\n",
    "#ps.plot_spectrogram(tspec12,freq12,power12,vr=[-80,-68], xr=[115,140],yr=[4800,6000],pl=1)\n",
    "#ps.plot_spectrogram(tspec12,freq12,power12,vr=[-80,-68], xr=[115,140],yr=[5400,6400],pl=1)\n",
    "#ps.plot_spectrogram(tspec12,freq12,power12,vr=[-80,-68], xr=[115,140],yr=[6200,7400],pl=1)\n",
    "\n",
    "\n",
    "\n",
    "\n"
   ]
  },
  {
   "cell_type": "code",
   "execution_count": 108,
   "metadata": {},
   "outputs": [
    {
     "name": "stdout",
     "output_type": "stream",
     "text": [
      "<class 'numpy.ndarray'>\n",
      "(1520000,)\n",
      "140.000117\n",
      "50427.6160742525\n",
      "1411594.532244412 Hz 768.6449040507877 Hz 193.49376903470537 Hz 48.40295974891469 Hz\n",
      "[  500   480   490 -1470]\n"
     ]
    }
   ],
   "source": [
    "#Determine spacing b/t harmonics at various times and relate to ion cyclotron freqs\n",
    "\n",
    "\n",
    "tref = 140. #reference time (sec since launch)\n",
    "\n",
    "goo = np.squeeze(np.where(mag.tsec > tref))\n",
    "print(type(goo))\n",
    "print(np.shape(goo))\n",
    "\n",
    "print(mag.tsec[goo[0]])\n",
    "print(mag.Bmag[goo[0]])\n",
    "\n",
    "Bo = mag.Bmag[goo[0]] * u.nT\n",
    "\n",
    "fce = plasmapy.formulary.gyrofrequency(Bo, particle='electron', to_hz=True)\n",
    "fcH = plasmapy.formulary.gyrofrequency(Bo, particle='H+', to_hz=True)\n",
    "fcHe = plasmapy.formulary.gyrofrequency(Bo, particle='He+', to_hz=True)\n",
    "fcO = plasmapy.formulary.gyrofrequency(Bo, particle='O+', to_hz=True)\n",
    "\n",
    "print(fce, fcH, fcHe, fcO)\n",
    "\n",
    "#Frequency spacing of banded structure at t=125 sec\n",
    "fbanded = [5280, 5780, 6260, 6750]\n",
    "df = np.roll(fbanded,-1) - fbanded\n",
    "print(df)\n",
    "\n",
    "\n",
    "\n",
    "#t=125 s \n",
    "#fbanded = [5000, 5648, 6307, 6967]\n",
    "#df = [648, 659, 660]\n",
    "#fcH = 782.\n",
    "\n",
    "#t=140 s \n",
    "fbanded = [5280, 5780, 6260, 6750]\n",
    "df = [500, 480, 490]\n",
    "fcH = 768\n"
   ]
  },
  {
   "cell_type": "code",
   "execution_count": null,
   "metadata": {},
   "outputs": [],
   "source": []
  }
 ],
 "metadata": {
  "kernelspec": {
   "display_name": "Python 3.8.8 ('base')",
   "language": "python",
   "name": "python3"
  },
  "language_info": {
   "codemirror_mode": {
    "name": "ipython",
    "version": 3
   },
   "file_extension": ".py",
   "mimetype": "text/x-python",
   "name": "python",
   "nbconvert_exporter": "python",
   "pygments_lexer": "ipython3",
   "version": "3.8.8"
  },
  "orig_nbformat": 4,
  "vscode": {
   "interpreter": {
    "hash": "3a53d51e9176ea8826b240f37bb5114997079bba8a6a1e98f7cebb95300f7760"
   }
  }
 },
 "nbformat": 4,
 "nbformat_minor": 2
}
