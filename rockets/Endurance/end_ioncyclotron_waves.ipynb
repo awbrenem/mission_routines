{
 "cells": [
  {
   "cell_type": "code",
   "execution_count": 2,
   "metadata": {},
   "outputs": [],
   "source": [
    "import sys \n",
    "sys.path.append('/Users/abrenema/Desktop/code/Aaron/github/mission_routines/rockets/Endurance/')\n",
    "import end_load_data\n",
    "import end_functions as end\n",
    "sys.path.append('/Users/abrenema/Desktop/code/Aaron/github/plasma-physics-general/')\n",
    "import plasma_params_get_density_from_flhr_freq as dflh\n",
    "sys.path.append('/Users/abrenema/Desktop/code/Aaron/github/signal_analysis/')\n",
    "import plot_spectrogram as ps\n",
    "from scipy import signal\n",
    "\n",
    "import numpy as np \n",
    "import matplotlib.pyplot as plt\n",
    "\n",
    "import plasmapy\n",
    "from astropy import units as u  \n",
    "\n",
    "#%load_ext nb_black\n",
    "plt.rcParams['figure.figsize'] = [10, 4]\n",
    "\n",
    "\"\"\"Enable auto module reloading\"\"\"\n",
    "%load_ext autoreload\n",
    "%autoreload 2\n",
    "\n",
    "mag = end_load_data.mag_dc()\n",
    "\n"
   ]
  },
  {
   "cell_type": "code",
   "execution_count": 4,
   "metadata": {},
   "outputs": [
    {
     "name": "stdout",
     "output_type": "stream",
     "text": [
      "179561\n",
      "179561\n"
     ]
    }
   ],
   "source": [
    "\n",
    "#Decimate the magnetic field data and determine fcH for entire timespan\n",
    "\n",
    "Bo = signal.decimate(mag.Bmag, 10)\n",
    "tmag = signal.decimate(mag.tsec,10)\n",
    "\n",
    "Bof = mag.Bmag \n",
    "tmagf = mag.tsec \n",
    "fcHtf = [28*i/1836. for i in Bof]\n",
    "\n",
    "\n",
    "#Determine cyclotron freq at all times \n",
    "#Bo = [i * u.nT for i in Bo]\n",
    "fcet = [28*i for i in Bo]\n",
    "fcHt = [28*i/1836. for i in Bo]\n",
    "fcOt = [28*i/1836./15. for i in Bo]\n",
    "\n",
    "\n"
   ]
  },
  {
   "cell_type": "code",
   "execution_count": 11,
   "metadata": {},
   "outputs": [
    {
     "ename": "",
     "evalue": "",
     "output_type": "error",
     "traceback": [
      "\u001b[1;31mThe Kernel crashed while executing code in the the current cell or a previous cell. Please review the code in the cell(s) to identify a possible cause of the failure. Click <a href='https://aka.ms/vscodeJupyterKernelCrash'>here</a> for more info. View Jupyter <a href='command:jupyter.viewOutput'>log</a> for further details."
     ]
    }
   ],
   "source": [
    "\"\"\"Load and plot E-field VLF data\"\"\"\n",
    "\n",
    "#For popout plots\n",
    "%matplotlib tk\n",
    "\n",
    "\n",
    "evlf = end_load_data.efield_vlf()\n",
    "\n",
    "\n",
    "vr = [-80,-60]\n",
    "xr = [100,500]\n",
    "yr = [0,12000]\n",
    "\n",
    "\n",
    "fs = evlf.samplerate\n",
    "freq12, tspec12, power12 = signal.spectrogram(evlf.dvlf12_mvm, fs, nperseg=16384, return_onesided=True,window='hann')\n",
    "\n",
    "\n",
    "#Get harmonics of fcH\n",
    "nvals = list(range(6,13,1))\n",
    "fcHth = end.harmonics(fcHt, nvals)\n",
    "\n",
    "\n",
    "\n",
    "fig, axs = plt.subplots()\n",
    "\n",
    "#plot harmonics\n",
    "for n in range(len(nvals)):\n",
    "    axs.plot(tmag, fcHth[:,n])\n",
    "\n",
    "ps.plot_spectrogram(tspec12, freq12, power12, vr=vr, yscale='linear', zscale='log', xr=xr, yr=yr, ax=axs)\n",
    "\n",
    "\n",
    "plt.show()\n",
    "\n",
    "\n",
    "\n",
    "\n",
    "\n"
   ]
  },
  {
   "cell_type": "code",
   "execution_count": null,
   "metadata": {},
   "outputs": [],
   "source": [
    "#Determine spacing b/t harmonics at various times and relate to ion cyclotron freqs\n",
    "\n",
    "\n",
    "tref = 140. #reference time (sec since launch)\n",
    "\n",
    "goo = np.squeeze(np.where(mag.tsec > tref))\n",
    "\n",
    "\n",
    "Bo = mag.Bmag[goo[0]] * u.nT\n",
    "\n",
    "fce = plasmapy.formulary.gyrofrequency(Bo, particle='electron', to_hz=True)\n",
    "fcH = plasmapy.formulary.gyrofrequency(Bo, particle='H+', to_hz=True)\n",
    "fcHe = plasmapy.formulary.gyrofrequency(Bo, particle='He+', to_hz=True)\n",
    "fcO = plasmapy.formulary.gyrofrequency(Bo, particle='O+', to_hz=True)\n",
    "\n",
    "print(fce, fcH, fcHe, fcO)\n",
    "\n",
    "#Frequency spacing of banded structure at t=125 sec\n",
    "fbanded = [5280, 5780, 6260, 6750]\n",
    "df = np.roll(fbanded,-1) - fbanded\n",
    "print(df)\n",
    "\n",
    "\n",
    "\n",
    "#t=125 s \n",
    "#fbanded = [5000, 5648, 6307, 6967]\n",
    "#df = [648, 659, 660]\n",
    "#fcH = 782.\n",
    "\n",
    "#t=140 s \n",
    "fbanded = [5280, 5780, 6260, 6750]\n",
    "df = [500, 480, 490]\n",
    "fcH = 768\n"
   ]
  },
  {
   "cell_type": "code",
   "execution_count": null,
   "metadata": {},
   "outputs": [],
   "source": []
  }
 ],
 "metadata": {
  "kernelspec": {
   "display_name": "Python 3.8.8 ('base')",
   "language": "python",
   "name": "python3"
  },
  "language_info": {
   "codemirror_mode": {
    "name": "ipython",
    "version": 3
   },
   "file_extension": ".py",
   "mimetype": "text/x-python",
   "name": "python",
   "nbconvert_exporter": "python",
   "pygments_lexer": "ipython3",
   "version": "3.8.8"
  },
  "orig_nbformat": 4,
  "vscode": {
   "interpreter": {
    "hash": "3a53d51e9176ea8826b240f37bb5114997079bba8a6a1e98f7cebb95300f7760"
   }
  }
 },
 "nbformat": 4,
 "nbformat_minor": 2
}
